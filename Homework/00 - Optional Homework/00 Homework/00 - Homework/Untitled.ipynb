{
 "cells": [
  {
   "cell_type": "code",
   "execution_count": null,
   "id": "8f312a04-8e6e-4b7a-ac9b-0bbabdf39ed3",
   "metadata": {},
   "outputs": [],
   "source": [
    "'''\n",
    "File name: 00_homework.py\n",
    "Author: Florent\n",
    "Date created: 03/10/2018\n",
    "Date last modified: 01/11/2019\n",
    "Python Version: 3.6\n",
    "'''"
   ]
  },
  {
   "cell_type": "markdown",
   "id": "a2161953-57c2-49a8-ab10-4e436f8c0ac2",
   "metadata": {},
   "source": [
    "# Libraries"
   ]
  },
  {
   "cell_type": "code",
   "execution_count": 12,
   "id": "c5aab56b-2f0c-4649-a005-eb3e9a69f96b",
   "metadata": {},
   "outputs": [],
   "source": [
    "import pandas as pd\n",
    "import numpy as np"
   ]
  },
  {
   "cell_type": "markdown",
   "id": "86a50dec-f25a-4d74-adb1-60eb696f92b6",
   "metadata": {},
   "source": [
    "# Data Imports"
   ]
  },
  {
   "cell_type": "code",
   "execution_count": 13,
   "id": "c64e99eb-d6d5-423b-9088-61ca6786771a",
   "metadata": {},
   "outputs": [
    {
     "data": {
      "text/html": [
       "<div>\n",
       "<style scoped>\n",
       "    .dataframe tbody tr th:only-of-type {\n",
       "        vertical-align: middle;\n",
       "    }\n",
       "\n",
       "    .dataframe tbody tr th {\n",
       "        vertical-align: top;\n",
       "    }\n",
       "\n",
       "    .dataframe thead th {\n",
       "        text-align: right;\n",
       "    }\n",
       "</style>\n",
       "<table border=\"1\" class=\"dataframe\">\n",
       "  <thead>\n",
       "    <tr style=\"text-align: right;\">\n",
       "      <th></th>\n",
       "      <th>Unnamed: 0</th>\n",
       "      <th>Intent</th>\n",
       "      <th>Gender</th>\n",
       "      <th>Age</th>\n",
       "      <th>Race</th>\n",
       "      <th>Deaths</th>\n",
       "      <th>Population</th>\n",
       "      <th>Rate</th>\n",
       "    </tr>\n",
       "  </thead>\n",
       "  <tbody>\n",
       "    <tr>\n",
       "      <th>0</th>\n",
       "      <td>1</td>\n",
       "      <td>None selected</td>\n",
       "      <td>None selected</td>\n",
       "      <td>None selected</td>\n",
       "      <td>None selected</td>\n",
       "      <td>33599</td>\n",
       "      <td>316299978</td>\n",
       "      <td>10.6</td>\n",
       "    </tr>\n",
       "    <tr>\n",
       "      <th>1</th>\n",
       "      <td>2</td>\n",
       "      <td>None selected</td>\n",
       "      <td>None selected</td>\n",
       "      <td>None selected</td>\n",
       "      <td>White</td>\n",
       "      <td>22079</td>\n",
       "      <td>197369634</td>\n",
       "      <td>11.2</td>\n",
       "    </tr>\n",
       "    <tr>\n",
       "      <th>2</th>\n",
       "      <td>3</td>\n",
       "      <td>None selected</td>\n",
       "      <td>None selected</td>\n",
       "      <td>None selected</td>\n",
       "      <td>Black</td>\n",
       "      <td>7765</td>\n",
       "      <td>38896382</td>\n",
       "      <td>20.0</td>\n",
       "    </tr>\n",
       "    <tr>\n",
       "      <th>3</th>\n",
       "      <td>4</td>\n",
       "      <td>None selected</td>\n",
       "      <td>None selected</td>\n",
       "      <td>None selected</td>\n",
       "      <td>Hispanic</td>\n",
       "      <td>3007</td>\n",
       "      <td>54049078</td>\n",
       "      <td>5.6</td>\n",
       "    </tr>\n",
       "    <tr>\n",
       "      <th>4</th>\n",
       "      <td>5</td>\n",
       "      <td>None selected</td>\n",
       "      <td>None selected</td>\n",
       "      <td>None selected</td>\n",
       "      <td>Asian/Pacific Islander</td>\n",
       "      <td>442</td>\n",
       "      <td>16315561</td>\n",
       "      <td>2.7</td>\n",
       "    </tr>\n",
       "    <tr>\n",
       "      <th>5</th>\n",
       "      <td>6</td>\n",
       "      <td>None selected</td>\n",
       "      <td>None selected</td>\n",
       "      <td>None selected</td>\n",
       "      <td>Other</td>\n",
       "      <td>306</td>\n",
       "      <td>9669323</td>\n",
       "      <td>3.2</td>\n",
       "    </tr>\n",
       "    <tr>\n",
       "      <th>6</th>\n",
       "      <td>7</td>\n",
       "      <td>None selected</td>\n",
       "      <td>None selected</td>\n",
       "      <td>Under 15</td>\n",
       "      <td>None selected</td>\n",
       "      <td>427</td>\n",
       "      <td>61085868</td>\n",
       "      <td>0.7</td>\n",
       "    </tr>\n",
       "    <tr>\n",
       "      <th>7</th>\n",
       "      <td>8</td>\n",
       "      <td>None selected</td>\n",
       "      <td>None selected</td>\n",
       "      <td>Under 15</td>\n",
       "      <td>White</td>\n",
       "      <td>242</td>\n",
       "      <td>31538832</td>\n",
       "      <td>0.8</td>\n",
       "    </tr>\n",
       "    <tr>\n",
       "      <th>8</th>\n",
       "      <td>9</td>\n",
       "      <td>None selected</td>\n",
       "      <td>None selected</td>\n",
       "      <td>Under 15</td>\n",
       "      <td>Black</td>\n",
       "      <td>109</td>\n",
       "      <td>8323603</td>\n",
       "      <td>1.3</td>\n",
       "    </tr>\n",
       "    <tr>\n",
       "      <th>9</th>\n",
       "      <td>10</td>\n",
       "      <td>None selected</td>\n",
       "      <td>None selected</td>\n",
       "      <td>Under 15</td>\n",
       "      <td>Hispanic</td>\n",
       "      <td>63</td>\n",
       "      <td>14994449</td>\n",
       "      <td>0.4</td>\n",
       "    </tr>\n",
       "  </tbody>\n",
       "</table>\n",
       "</div>"
      ],
      "text/plain": [
       "   Unnamed: 0         Intent         Gender            Age  \\\n",
       "0           1  None selected  None selected  None selected   \n",
       "1           2  None selected  None selected  None selected   \n",
       "2           3  None selected  None selected  None selected   \n",
       "3           4  None selected  None selected  None selected   \n",
       "4           5  None selected  None selected  None selected   \n",
       "5           6  None selected  None selected  None selected   \n",
       "6           7  None selected  None selected       Under 15   \n",
       "7           8  None selected  None selected       Under 15   \n",
       "8           9  None selected  None selected       Under 15   \n",
       "9          10  None selected  None selected       Under 15   \n",
       "\n",
       "                     Race  Deaths  Population  Rate  \n",
       "0           None selected   33599   316299978  10.6  \n",
       "1                   White   22079   197369634  11.2  \n",
       "2                   Black    7765    38896382  20.0  \n",
       "3                Hispanic    3007    54049078   5.6  \n",
       "4  Asian/Pacific Islander     442    16315561   2.7  \n",
       "5                   Other     306     9669323   3.2  \n",
       "6           None selected     427    61085868   0.7  \n",
       "7                   White     242    31538832   0.8  \n",
       "8                   Black     109     8323603   1.3  \n",
       "9                Hispanic      63    14994449   0.4  "
      ]
     },
     "execution_count": 13,
     "metadata": {},
     "output_type": "execute_result"
    }
   ],
   "source": [
    "FILE_PATH = \"./interactive_data.csv\"\n",
    "df = pd.read_csv(FILE_PATH)\n",
    "df.head(10)"
   ]
  },
  {
   "cell_type": "markdown",
   "id": "ccc8fdde-2f13-43c6-838e-ad4ab79cde7a",
   "metadata": {},
   "source": [
    "# Nearly two-thirds of gun deaths are suicides"
   ]
  },
  {
   "cell_type": "code",
   "execution_count": 14,
   "id": "bdc4fb3c-3d5f-45bb-9359-7a94b19a6d2e",
   "metadata": {},
   "outputs": [
    {
     "name": "stdout",
     "output_type": "stream",
     "text": [
      "['None selected' 'Suicide' 'Homicide' 'Accident' 'Unknown']\n"
     ]
    }
   ],
   "source": [
    "intent = df.Intent.unique()\n",
    "print(intent)"
   ]
  },
  {
   "cell_type": "code",
   "execution_count": 34,
   "id": "26c592b2-b22b-49bc-a8fa-e98ae7091c06",
   "metadata": {},
   "outputs": [
    {
     "name": "stdout",
     "output_type": "stream",
     "text": [
      "suicide/gun deaths : 0.627\n"
     ]
    }
   ],
   "source": [
    "death_total =     int(df[(df['Intent'] == 'None selected') \n",
    "                       & (df['Gender'] == 'None selected')\n",
    "                       & (df['Age'] == 'None selected')\n",
    "                       & (df['Race'] == 'None selected')\n",
    "                      ]['Deaths'])\n",
    "\n",
    "\n",
    "death_suicide =   int(df[(df['Intent'] == 'Suicide') \n",
    "                       & (df['Gender'] == 'None selected')\n",
    "                       & (df['Age'] == 'None selected')\n",
    "                       & (df['Race'] == 'None selected')\n",
    "                      ]['Deaths'])\n",
    "\n",
    "print(\"suicide/gun deaths : %.3f\" % (death_suicide/death_total))"
   ]
  },
  {
   "cell_type": "markdown",
   "id": "fdb3a45a-3d93-4574-88dd-d1cd53df50cd",
   "metadata": {},
   "source": [
    "# More than 85 percent of suicide victims are male."
   ]
  },
  {
   "cell_type": "code",
   "execution_count": 33,
   "id": "f86cb411-1bcb-4bc9-a801-de0ba4f75c96",
   "metadata": {},
   "outputs": [
    {
     "name": "stdout",
     "output_type": "stream",
     "text": [
      "suicide male/suicide : 0.862\n"
     ]
    }
   ],
   "source": [
    "death_suicide_male =   int(df[(df['Intent'] == 'Suicide') \n",
    "                        & (df['Gender'] == 'Male')\n",
    "                        & (df['Age'] == 'None selected')\n",
    "                        & (df['Race'] == 'None selected')\n",
    "                      ]['Deaths'])\n",
    "\n",
    "print(\"suicide male/suicide : %.3f\" % (death_suicide_male/death_suicide))"
   ]
  },
  {
   "cell_type": "markdown",
   "id": "7929ea50-c0e7-4988-a433-dff66fa78d5f",
   "metadata": {},
   "source": [
    "# Around a third of all gun deaths are homicides."
   ]
  },
  {
   "cell_type": "code",
   "execution_count": 36,
   "id": "8dd1b45d-14db-4dd5-9f31-f36900d35beb",
   "metadata": {},
   "outputs": [
    {
     "name": "stdout",
     "output_type": "stream",
     "text": [
      "homicide/gun deaths : 0.349\n"
     ]
    }
   ],
   "source": [
    "death_homicide =   int(df[(df['Intent'] == 'Homicide') \n",
    "                       & (df['Gender'] == 'None selected')\n",
    "                       & (df['Age'] == 'None selected')\n",
    "                       & (df['Race'] == 'None selected')\n",
    "                      ]['Deaths'])\n",
    "print(\"homicide/gun deaths : %.3f\" % (death_homicide/death_total))"
   ]
  },
  {
   "cell_type": "markdown",
   "id": "efaef0f1-1d38-4690-ab42-1043409bd300",
   "metadata": {},
   "source": [
    "# Around two-thirds of homicide victims who are males in the age-group of 15--34 are black."
   ]
  },
  {
   "cell_type": "code",
   "execution_count": 45,
   "id": "a1193779-036a-454c-bcec-1dffb0ce95a6",
   "metadata": {},
   "outputs": [
    {
     "name": "stdout",
     "output_type": "stream",
     "text": [
      "result : 0.661\n"
     ]
    }
   ],
   "source": [
    "death_homicide_2 =   int(df[(df['Intent'] == 'Homicide') \n",
    "                       & (df['Gender'] == 'Male')\n",
    "                       & (df['Age'] == '15 - 34')\n",
    "                       & (df['Race'] == 'None selected')\n",
    "                      ]['Deaths'])\n",
    "\n",
    "death_homicide_2_black =   int(df[(df['Intent'] == 'Homicide') \n",
    "                       & (df['Gender'] == 'Male')\n",
    "                       & (df['Age'] == '15 - 34')\n",
    "                       & (df['Race'] == 'Black')\n",
    "                      ]['Deaths'])\n",
    "\n",
    "print(\"result : %.3f\" % (death_homicide_2_black/death_homicide_2))"
   ]
  },
  {
   "cell_type": "markdown",
   "id": "0bfc421f-c641-4c18-a733-27c928ea715b",
   "metadata": {},
   "source": [
    "# Women constitue only 15 percent of the total homicide victims."
   ]
  },
  {
   "cell_type": "code",
   "execution_count": 48,
   "id": "9a3c9b5e-c09f-4e71-ab71-7f72a3b47ccd",
   "metadata": {},
   "outputs": [
    {
     "name": "stdout",
     "output_type": "stream",
     "text": [
      "result : 0.153\n"
     ]
    }
   ],
   "source": [
    "death_gonzesse =   int(df[(df['Intent'] == 'Homicide') \n",
    "                       & (df['Gender'] == 'Female')\n",
    "                       & (df['Age'] == 'None selected')\n",
    "                       & (df['Race'] == 'None selected')\n",
    "                      ]['Deaths'])\n",
    "\n",
    "print(\"result : %.3f\" % (death_gonzesse/death_homicide))"
   ]
  },
  {
   "cell_type": "code",
   "execution_count": 56,
   "id": "7bd3e032-1bce-4862-9107-75a2c2a77532",
   "metadata": {},
   "outputs": [
    {
     "name": "stdout",
     "output_type": "stream",
     "text": [
      "result : 0.153\n"
     ]
    }
   ],
   "source": [
    "death_gonzesse_2 = df.loc[\n",
    "                         (df['Intent'] == 'Homicide') \n",
    "                       & (df['Gender'] == 'Female')\n",
    "                       & (df['Age']    == 'None selected')\n",
    "                       & (df['Race']   == 'None selected')\n",
    "                      ,\n",
    "                      \"Deaths\"]\n",
    "\n",
    "print(\"result : %.3f\" % (death_gonzesse_2/death_homicide))"
   ]
  },
  {
   "cell_type": "code",
   "execution_count": null,
   "id": "812a6be5-1320-4607-bd41-148b1e5fa2c8",
   "metadata": {},
   "outputs": [],
   "source": []
  }
 ],
 "metadata": {
  "kernelspec": {
   "display_name": "Python 3 (ipykernel)",
   "language": "python",
   "name": "python3"
  },
  "language_info": {
   "codemirror_mode": {
    "name": "ipython",
    "version": 3
   },
   "file_extension": ".py",
   "mimetype": "text/x-python",
   "name": "python",
   "nbconvert_exporter": "python",
   "pygments_lexer": "ipython3",
   "version": "3.9.12"
  }
 },
 "nbformat": 4,
 "nbformat_minor": 5
}
